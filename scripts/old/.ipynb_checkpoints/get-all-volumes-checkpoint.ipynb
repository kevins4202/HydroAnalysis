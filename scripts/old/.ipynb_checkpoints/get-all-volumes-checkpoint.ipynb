{
 "cells": [
  {
   "cell_type": "code",
   "execution_count": 1,
   "id": "6f8d210a",
   "metadata": {},
   "outputs": [],
   "source": [
    "import os\n",
    "import pandas as pd\n",
    "import selenium\n",
    "from selenium import webdriver\n",
    "import requests\n",
    "from selenium.webdriver.common.by import By"
   ]
  },
  {
   "cell_type": "code",
   "execution_count": 145,
   "id": "eb85d50a",
   "metadata": {},
   "outputs": [],
   "source": [
    "def getVolumes(journal):\n",
    "    vols = {}\n",
    "    web_driver = webdriver.Safari()\n",
    "    \n",
    "    web_driver.get(journal)\n",
    "    \n",
    "#     last_url = web_driver.current_url\n",
    "#     times = 0\n",
    "    \n",
    "    while True:\n",
    "#         cont = False\n",
    "#         try:\n",
    "#             b = web_driver.find_elements(By.CLASS_NAME, \"button-alternative-secondary\")[2]\n",
    "#         except Exception as e:\n",
    "#             cont = True\n",
    "#         if not cont:\n",
    "#             break\n",
    "        web_driver.implicitly_wait(1)\n",
    "        web_driver.refresh()\n",
    "        \n",
    "    \n",
    "        volume_buttons = web_driver.find_elements(By.CLASS_NAME, \"accordion-panel-title\")\n",
    "        \n",
    "        i = 0\n",
    "        while 'Volume' not in volume_buttons[i].get_attribute('innerHTML'):\n",
    "            i+=1\n",
    "#         i-=1\n",
    "            \n",
    "        volume_buttons = volume_buttons[i:]\n",
    "        \n",
    "        years = [e.get_attribute(\"innerHTML\") for e in web_driver.find_elements(By.CLASS_NAME, \"accordion-title\")]\n",
    "        \n",
    "        j = 0\n",
    "        while 'Volume' not in years[j]:\n",
    "            j+=1\n",
    "#         j-=1\n",
    "        \n",
    "        years = years[j:]\n",
    "        \n",
    "        indiv_volumes = web_driver.find_elements(By.CLASS_NAME, \"js-issue-item-link\")\n",
    "        vols[years[0]] = [indiv_volume.get_attribute('href') for indiv_volume in indiv_volumes]\n",
    "        \n",
    "        print(years)\n",
    "        print([b.get_attribute('innerHTML') for b in volume_buttons])\n",
    "            \n",
    "        web_driver.implicitly_wait(1)\n",
    "        \n",
    "\n",
    "        for i in range(1, len(years)):\n",
    "            web_driver.implicitly_wait(2)\n",
    "            volume_buttons[i].click()\n",
    "            web_driver.implicitly_wait(2)\n",
    "            indiv_volumes = web_driver.find_elements(By.CLASS_NAME, \"js-issue-item-link\")\n",
    "            vols[years[i]] = [indiv_volume.get_attribute('href') for indiv_volume in indiv_volumes]\n",
    "            \n",
    "#         print(web_driver.find_elements(By.CLASS_NAME, \"button-alternative-secondary\")[2].get_property('disabled'))\n",
    "        \n",
    "        b = True\n",
    "        \n",
    "        try:\n",
    "            b = web_driver.find_elements(By.CLASS_NAME, \"button-alternative-secondary\")[2].get_property('disabled')\n",
    "        except Exception:\n",
    "            break\n",
    "        \n",
    "        if b:\n",
    "            break\n",
    "        else:\n",
    "#             last_url = web_driver.current_url\n",
    "#             times+=1\n",
    "            web_driver.find_elements(By.CLASS_NAME, \"button-alternative-secondary\")[2].click()\n",
    "    \n",
    "    web_driver.close()\n",
    "    \n",
    "    return vols"
   ]
  },
  {
   "cell_type": "code",
   "execution_count": 3,
   "id": "e01a07ff",
   "metadata": {},
   "outputs": [],
   "source": [
    "journals = pd.read_csv(os.getcwd().replace('scripts', 'data')+'/journals.csv')"
   ]
  },
  {
   "cell_type": "code",
   "execution_count": 126,
   "id": "a279a915",
   "metadata": {},
   "outputs": [
    {
     "data": {
      "text/plain": [
       "'https://www.sciencedirect.com/journal/advances-in-water-resources'"
      ]
     },
     "execution_count": 126,
     "metadata": {},
     "output_type": "execute_result"
    }
   ],
   "source": [
    "journals.iat[1,1]"
   ]
  },
  {
   "cell_type": "code",
   "execution_count": null,
   "id": "5db046de",
   "metadata": {},
   "outputs": [],
   "source": []
  },
  {
   "cell_type": "code",
   "execution_count": 148,
   "id": "a11ecedc",
   "metadata": {},
   "outputs": [
    {
     "name": "stdout",
     "output_type": "stream",
     "text": [
      "0\n",
      "https://www.sciencedirect.com/journal/hydroresearch\n",
      "['2023 — Volume 6', '2022 — Volume 5', '2021 — Volume 4', '2020 — Volume 3', '2019 — Volumes 1-2']\n",
      "['<div><span class=\"accordion-title\">2023 — Volume 6</span></div><svg role=\"img\" focusable=\"false\" viewBox=\"0 0 92 128\" width=\"17.25\" height=\"24\" class=\"icon icon-navigate-up accordion-icon navigate-up\" aria-label=\"Navigate Up\"><path d=\"m46 46l-38 38-7-7 45-45 45 45-7 7z\"></path></svg>', '<div><span class=\"accordion-title\">2022 — Volume 5</span></div><svg role=\"img\" focusable=\"false\" viewBox=\"0 0 92 128\" width=\"17.25\" height=\"24\" class=\"icon icon-navigate-down accordion-icon\" aria-label=\"Navigate Down\"><path d=\"m1 51l7-7 38 38 38-38 7 7-45 45z\"></path></svg>', '<div><span class=\"accordion-title\">2021 — Volume 4</span></div><svg role=\"img\" focusable=\"false\" viewBox=\"0 0 92 128\" width=\"17.25\" height=\"24\" class=\"icon icon-navigate-down accordion-icon\" aria-label=\"Navigate Down\"><path d=\"m1 51l7-7 38 38 38-38 7 7-45 45z\"></path></svg>', '<div><span class=\"accordion-title\">2020 — Volume 3</span></div><svg role=\"img\" focusable=\"false\" viewBox=\"0 0 92 128\" width=\"17.25\" height=\"24\" class=\"icon icon-navigate-down accordion-icon\" aria-label=\"Navigate Down\"><path d=\"m1 51l7-7 38 38 38-38 7 7-45 45z\"></path></svg>', '<div><span class=\"accordion-title\">2019 — Volumes 1-2</span></div><svg role=\"img\" focusable=\"false\" viewBox=\"0 0 92 128\" width=\"17.25\" height=\"24\" class=\"icon icon-navigate-down accordion-icon\" aria-label=\"Navigate Down\"><path d=\"m1 51l7-7 38 38 38-38 7 7-45 45z\"></path></svg>']\n",
      "{'2023 — Volume 6': ['https://www.sciencedirect.com/journal/hydroresearch/vol/6/suppl/C'], '2022 — Volume 5': ['https://www.sciencedirect.com/journal/hydroresearch/vol/5/suppl/C'], '2021 — Volume 4': ['https://www.sciencedirect.com/journal/hydroresearch/vol/4/suppl/C'], '2020 — Volume 3': ['https://www.sciencedirect.com/journal/hydroresearch/vol/3/suppl/C'], '2019 — Volumes 1-2': ['https://www.sciencedirect.com/journal/hydroresearch/vol/2/suppl/C', 'https://www.sciencedirect.com/journal/hydroresearch/vol/1/suppl/C']}\n",
      "get volumes\n",
      "make volumes df\n",
      "make volumes df\n",
      "1\n",
      "https://www.sciencedirect.com/journal/advances-in-water-resources\n",
      "['2023 — Volumes 171-178', '2022 — Volumes 159-170', '2021 — Volumes 147-158', '2020 — Volumes 135-146', '2019 — Volumes 123-134', '2018 — Volumes 111-122', '2017 — Volumes 99-110', '2016 — Volumes 87-98', '2015 — Volumes 75-86', '2014 — Volumes 63-74', '2013 — Volumes 51-62', '2012 — Volumes 35-50', '2011 — Volume 34', '2010 — Volume 33', '2009 — Volume 32', '2008 — Volume 31', '2007 — Volume 30', '2006 — Volume 29', '2005 — Volume 28', '2004 — Volume 27']\n",
      "['<div><span class=\"accordion-title\">2023 — Volumes 171-178</span></div><svg role=\"img\" focusable=\"false\" viewBox=\"0 0 92 128\" width=\"17.25\" height=\"24\" class=\"icon icon-navigate-up accordion-icon navigate-up\" aria-label=\"Navigate Up\"><path d=\"m46 46l-38 38-7-7 45-45 45 45-7 7z\"></path></svg>', '<div><span class=\"accordion-title\">2022 — Volumes 159-170</span></div><svg role=\"img\" focusable=\"false\" viewBox=\"0 0 92 128\" width=\"17.25\" height=\"24\" class=\"icon icon-navigate-down accordion-icon\" aria-label=\"Navigate Down\"><path d=\"m1 51l7-7 38 38 38-38 7 7-45 45z\"></path></svg>', '<div><span class=\"accordion-title\">2021 — Volumes 147-158</span></div><svg role=\"img\" focusable=\"false\" viewBox=\"0 0 92 128\" width=\"17.25\" height=\"24\" class=\"icon icon-navigate-down accordion-icon\" aria-label=\"Navigate Down\"><path d=\"m1 51l7-7 38 38 38-38 7 7-45 45z\"></path></svg>', '<div><span class=\"accordion-title\">2020 — Volumes 135-146</span></div><svg role=\"img\" focusable=\"false\" viewBox=\"0 0 92 128\" width=\"17.25\" height=\"24\" class=\"icon icon-navigate-down accordion-icon\" aria-label=\"Navigate Down\"><path d=\"m1 51l7-7 38 38 38-38 7 7-45 45z\"></path></svg>', '<div><span class=\"accordion-title\">2019 — Volumes 123-134</span></div><svg role=\"img\" focusable=\"false\" viewBox=\"0 0 92 128\" width=\"17.25\" height=\"24\" class=\"icon icon-navigate-down accordion-icon\" aria-label=\"Navigate Down\"><path d=\"m1 51l7-7 38 38 38-38 7 7-45 45z\"></path></svg>', '<div><span class=\"accordion-title\">2018 — Volumes 111-122</span></div><svg role=\"img\" focusable=\"false\" viewBox=\"0 0 92 128\" width=\"17.25\" height=\"24\" class=\"icon icon-navigate-down accordion-icon\" aria-label=\"Navigate Down\"><path d=\"m1 51l7-7 38 38 38-38 7 7-45 45z\"></path></svg>', '<div><span class=\"accordion-title\">2017 — Volumes 99-110</span></div><svg role=\"img\" focusable=\"false\" viewBox=\"0 0 92 128\" width=\"17.25\" height=\"24\" class=\"icon icon-navigate-down accordion-icon\" aria-label=\"Navigate Down\"><path d=\"m1 51l7-7 38 38 38-38 7 7-45 45z\"></path></svg>', '<div><span class=\"accordion-title\">2016 — Volumes 87-98</span></div><svg role=\"img\" focusable=\"false\" viewBox=\"0 0 92 128\" width=\"17.25\" height=\"24\" class=\"icon icon-navigate-down accordion-icon\" aria-label=\"Navigate Down\"><path d=\"m1 51l7-7 38 38 38-38 7 7-45 45z\"></path></svg>', '<div><span class=\"accordion-title\">2015 — Volumes 75-86</span></div><svg role=\"img\" focusable=\"false\" viewBox=\"0 0 92 128\" width=\"17.25\" height=\"24\" class=\"icon icon-navigate-down accordion-icon\" aria-label=\"Navigate Down\"><path d=\"m1 51l7-7 38 38 38-38 7 7-45 45z\"></path></svg>', '<div><span class=\"accordion-title\">2014 — Volumes 63-74</span></div><svg role=\"img\" focusable=\"false\" viewBox=\"0 0 92 128\" width=\"17.25\" height=\"24\" class=\"icon icon-navigate-down accordion-icon\" aria-label=\"Navigate Down\"><path d=\"m1 51l7-7 38 38 38-38 7 7-45 45z\"></path></svg>', '<div><span class=\"accordion-title\">2013 — Volumes 51-62</span></div><svg role=\"img\" focusable=\"false\" viewBox=\"0 0 92 128\" width=\"17.25\" height=\"24\" class=\"icon icon-navigate-down accordion-icon\" aria-label=\"Navigate Down\"><path d=\"m1 51l7-7 38 38 38-38 7 7-45 45z\"></path></svg>', '<div><span class=\"accordion-title\">2012 — Volumes 35-50</span></div><svg role=\"img\" focusable=\"false\" viewBox=\"0 0 92 128\" width=\"17.25\" height=\"24\" class=\"icon icon-navigate-down accordion-icon\" aria-label=\"Navigate Down\"><path d=\"m1 51l7-7 38 38 38-38 7 7-45 45z\"></path></svg>', '<div><span class=\"accordion-title\">2011 — Volume 34</span></div><svg role=\"img\" focusable=\"false\" viewBox=\"0 0 92 128\" width=\"17.25\" height=\"24\" class=\"icon icon-navigate-down accordion-icon\" aria-label=\"Navigate Down\"><path d=\"m1 51l7-7 38 38 38-38 7 7-45 45z\"></path></svg>', '<div><span class=\"accordion-title\">2010 — Volume 33</span></div><svg role=\"img\" focusable=\"false\" viewBox=\"0 0 92 128\" width=\"17.25\" height=\"24\" class=\"icon icon-navigate-down accordion-icon\" aria-label=\"Navigate Down\"><path d=\"m1 51l7-7 38 38 38-38 7 7-45 45z\"></path></svg>', '<div><span class=\"accordion-title\">2009 — Volume 32</span></div><svg role=\"img\" focusable=\"false\" viewBox=\"0 0 92 128\" width=\"17.25\" height=\"24\" class=\"icon icon-navigate-down accordion-icon\" aria-label=\"Navigate Down\"><path d=\"m1 51l7-7 38 38 38-38 7 7-45 45z\"></path></svg>', '<div><span class=\"accordion-title\">2008 — Volume 31</span></div><svg role=\"img\" focusable=\"false\" viewBox=\"0 0 92 128\" width=\"17.25\" height=\"24\" class=\"icon icon-navigate-down accordion-icon\" aria-label=\"Navigate Down\"><path d=\"m1 51l7-7 38 38 38-38 7 7-45 45z\"></path></svg>', '<div><span class=\"accordion-title\">2007 — Volume 30</span></div><svg role=\"img\" focusable=\"false\" viewBox=\"0 0 92 128\" width=\"17.25\" height=\"24\" class=\"icon icon-navigate-down accordion-icon\" aria-label=\"Navigate Down\"><path d=\"m1 51l7-7 38 38 38-38 7 7-45 45z\"></path></svg>', '<div><span class=\"accordion-title\">2006 — Volume 29</span></div><svg role=\"img\" focusable=\"false\" viewBox=\"0 0 92 128\" width=\"17.25\" height=\"24\" class=\"icon icon-navigate-down accordion-icon\" aria-label=\"Navigate Down\"><path d=\"m1 51l7-7 38 38 38-38 7 7-45 45z\"></path></svg>', '<div><span class=\"accordion-title\">2005 — Volume 28</span></div><svg role=\"img\" focusable=\"false\" viewBox=\"0 0 92 128\" width=\"17.25\" height=\"24\" class=\"icon icon-navigate-down accordion-icon\" aria-label=\"Navigate Down\"><path d=\"m1 51l7-7 38 38 38-38 7 7-45 45z\"></path></svg>', '<div><span class=\"accordion-title\">2004 — Volume 27</span></div><svg role=\"img\" focusable=\"false\" viewBox=\"0 0 92 128\" width=\"17.25\" height=\"24\" class=\"icon icon-navigate-down accordion-icon\" aria-label=\"Navigate Down\"><path d=\"m1 51l7-7 38 38 38-38 7 7-45 45z\"></path></svg>']\n"
     ]
    },
    {
     "ename": "WebDriverException",
     "evalue": "Message: \n",
     "output_type": "error",
     "traceback": [
      "\u001b[0;31m---------------------------------------------------------------------------\u001b[0m",
      "\u001b[0;31mWebDriverException\u001b[0m                        Traceback (most recent call last)",
      "Input \u001b[0;32mIn [148]\u001b[0m, in \u001b[0;36m<cell line: 1>\u001b[0;34m()\u001b[0m\n\u001b[1;32m      2\u001b[0m \u001b[38;5;28mprint\u001b[39m(i)\n\u001b[1;32m      3\u001b[0m \u001b[38;5;28mprint\u001b[39m(journals\u001b[38;5;241m.\u001b[39miat[i,\u001b[38;5;241m1\u001b[39m])\n\u001b[0;32m----> 4\u001b[0m v \u001b[38;5;241m=\u001b[39m \u001b[43mgetVolumes\u001b[49m\u001b[43m(\u001b[49m\u001b[43mjournals\u001b[49m\u001b[38;5;241;43m.\u001b[39;49m\u001b[43miat\u001b[49m\u001b[43m[\u001b[49m\u001b[43mi\u001b[49m\u001b[43m,\u001b[49m\u001b[43m \u001b[49m\u001b[38;5;241;43m1\u001b[39;49m\u001b[43m]\u001b[49m\u001b[43m \u001b[49m\u001b[38;5;241;43m+\u001b[39;49m\u001b[43m \u001b[49m\u001b[38;5;124;43m'\u001b[39;49m\u001b[38;5;124;43m/issues\u001b[39;49m\u001b[38;5;124;43m'\u001b[39;49m\u001b[43m)\u001b[49m\n\u001b[1;32m      5\u001b[0m \u001b[38;5;28mprint\u001b[39m(v)\n\u001b[1;32m      7\u001b[0m \u001b[38;5;28mprint\u001b[39m(\u001b[38;5;124m\"\u001b[39m\u001b[38;5;124mget volumes\u001b[39m\u001b[38;5;124m\"\u001b[39m)\n",
      "Input \u001b[0;32mIn [145]\u001b[0m, in \u001b[0;36mgetVolumes\u001b[0;34m(journal)\u001b[0m\n\u001b[1;32m     49\u001b[0m \u001b[38;5;28;01mfor\u001b[39;00m i \u001b[38;5;129;01min\u001b[39;00m \u001b[38;5;28mrange\u001b[39m(\u001b[38;5;241m1\u001b[39m, \u001b[38;5;28mlen\u001b[39m(years)):\n\u001b[1;32m     50\u001b[0m     web_driver\u001b[38;5;241m.\u001b[39mimplicitly_wait(\u001b[38;5;241m2\u001b[39m)\n\u001b[0;32m---> 51\u001b[0m     \u001b[43mvolume_buttons\u001b[49m\u001b[43m[\u001b[49m\u001b[43mi\u001b[49m\u001b[43m]\u001b[49m\u001b[38;5;241;43m.\u001b[39;49m\u001b[43mclick\u001b[49m\u001b[43m(\u001b[49m\u001b[43m)\u001b[49m\n\u001b[1;32m     52\u001b[0m     web_driver\u001b[38;5;241m.\u001b[39mimplicitly_wait(\u001b[38;5;241m2\u001b[39m)\n\u001b[1;32m     53\u001b[0m     indiv_volumes \u001b[38;5;241m=\u001b[39m web_driver\u001b[38;5;241m.\u001b[39mfind_elements(By\u001b[38;5;241m.\u001b[39mCLASS_NAME, \u001b[38;5;124m\"\u001b[39m\u001b[38;5;124mjs-issue-item-link\u001b[39m\u001b[38;5;124m\"\u001b[39m)\n",
      "File \u001b[0;32m/usr/local/lib/python3.9/site-packages/selenium/webdriver/remote/webelement.py:89\u001b[0m, in \u001b[0;36mWebElement.click\u001b[0;34m(self)\u001b[0m\n\u001b[1;32m     87\u001b[0m \u001b[38;5;28;01mdef\u001b[39;00m \u001b[38;5;21mclick\u001b[39m(\u001b[38;5;28mself\u001b[39m) \u001b[38;5;241m-\u001b[39m\u001b[38;5;241m>\u001b[39m \u001b[38;5;28;01mNone\u001b[39;00m:\n\u001b[1;32m     88\u001b[0m     \u001b[38;5;124;03m\"\"\"Clicks the element.\"\"\"\u001b[39;00m\n\u001b[0;32m---> 89\u001b[0m     \u001b[38;5;28;43mself\u001b[39;49m\u001b[38;5;241;43m.\u001b[39;49m\u001b[43m_execute\u001b[49m\u001b[43m(\u001b[49m\u001b[43mCommand\u001b[49m\u001b[38;5;241;43m.\u001b[39;49m\u001b[43mCLICK_ELEMENT\u001b[49m\u001b[43m)\u001b[49m\n",
      "File \u001b[0;32m/usr/local/lib/python3.9/site-packages/selenium/webdriver/remote/webelement.py:773\u001b[0m, in \u001b[0;36mWebElement._execute\u001b[0;34m(self, command, params)\u001b[0m\n\u001b[1;32m    771\u001b[0m     params \u001b[38;5;241m=\u001b[39m {}\n\u001b[1;32m    772\u001b[0m params[\u001b[38;5;124m'\u001b[39m\u001b[38;5;124mid\u001b[39m\u001b[38;5;124m'\u001b[39m] \u001b[38;5;241m=\u001b[39m \u001b[38;5;28mself\u001b[39m\u001b[38;5;241m.\u001b[39m_id\n\u001b[0;32m--> 773\u001b[0m \u001b[38;5;28;01mreturn\u001b[39;00m \u001b[38;5;28;43mself\u001b[39;49m\u001b[38;5;241;43m.\u001b[39;49m\u001b[43m_parent\u001b[49m\u001b[38;5;241;43m.\u001b[39;49m\u001b[43mexecute\u001b[49m\u001b[43m(\u001b[49m\u001b[43mcommand\u001b[49m\u001b[43m,\u001b[49m\u001b[43m \u001b[49m\u001b[43mparams\u001b[49m\u001b[43m)\u001b[49m\n",
      "File \u001b[0;32m/usr/local/lib/python3.9/site-packages/selenium/webdriver/remote/webdriver.py:430\u001b[0m, in \u001b[0;36mWebDriver.execute\u001b[0;34m(self, driver_command, params)\u001b[0m\n\u001b[1;32m    428\u001b[0m response \u001b[38;5;241m=\u001b[39m \u001b[38;5;28mself\u001b[39m\u001b[38;5;241m.\u001b[39mcommand_executor\u001b[38;5;241m.\u001b[39mexecute(driver_command, params)\n\u001b[1;32m    429\u001b[0m \u001b[38;5;28;01mif\u001b[39;00m response:\n\u001b[0;32m--> 430\u001b[0m     \u001b[38;5;28;43mself\u001b[39;49m\u001b[38;5;241;43m.\u001b[39;49m\u001b[43merror_handler\u001b[49m\u001b[38;5;241;43m.\u001b[39;49m\u001b[43mcheck_response\u001b[49m\u001b[43m(\u001b[49m\u001b[43mresponse\u001b[49m\u001b[43m)\u001b[49m\n\u001b[1;32m    431\u001b[0m     response[\u001b[38;5;124m'\u001b[39m\u001b[38;5;124mvalue\u001b[39m\u001b[38;5;124m'\u001b[39m] \u001b[38;5;241m=\u001b[39m \u001b[38;5;28mself\u001b[39m\u001b[38;5;241m.\u001b[39m_unwrap_value(\n\u001b[1;32m    432\u001b[0m         response\u001b[38;5;241m.\u001b[39mget(\u001b[38;5;124m'\u001b[39m\u001b[38;5;124mvalue\u001b[39m\u001b[38;5;124m'\u001b[39m, \u001b[38;5;28;01mNone\u001b[39;00m))\n\u001b[1;32m    433\u001b[0m     \u001b[38;5;28;01mreturn\u001b[39;00m response\n",
      "File \u001b[0;32m/usr/local/lib/python3.9/site-packages/selenium/webdriver/remote/errorhandler.py:247\u001b[0m, in \u001b[0;36mErrorHandler.check_response\u001b[0;34m(self, response)\u001b[0m\n\u001b[1;32m    245\u001b[0m         alert_text \u001b[38;5;241m=\u001b[39m value[\u001b[38;5;124m'\u001b[39m\u001b[38;5;124malert\u001b[39m\u001b[38;5;124m'\u001b[39m]\u001b[38;5;241m.\u001b[39mget(\u001b[38;5;124m'\u001b[39m\u001b[38;5;124mtext\u001b[39m\u001b[38;5;124m'\u001b[39m)\n\u001b[1;32m    246\u001b[0m     \u001b[38;5;28;01mraise\u001b[39;00m exception_class(message, screen, stacktrace, alert_text)  \u001b[38;5;66;03m# type: ignore[call-arg]  # mypy is not smart enough here\u001b[39;00m\n\u001b[0;32m--> 247\u001b[0m \u001b[38;5;28;01mraise\u001b[39;00m exception_class(message, screen, stacktrace)\n",
      "\u001b[0;31mWebDriverException\u001b[0m: Message: \n"
     ]
    }
   ],
   "source": [
    "for i in range(0,journals.shape[0]):\n",
    "    print(i)\n",
    "    print(journals.iat[i,1])\n",
    "    v = getVolumes(journals.iat[i, 1] + '/issues')\n",
    "    print(v)\n",
    "    \n",
    "    print(\"get volumes\")\n",
    "    \n",
    "    path = os.getcwd().replace('scripts', 'data')+'/journals'\n",
    "    os.mkdir(path+'/'+str(i))\n",
    "    \n",
    "    new_vols = {}\n",
    "    \n",
    "    for key, value in v.items():\n",
    "        new_vols[key.split(' ')[0]] = v[key]\n",
    "    \n",
    "    print(\"make volumes df\")\n",
    "    \n",
    "    vol_df = pd.DataFrame(columns=['year', 'link'])\n",
    "    \n",
    "    for key, value in new_vols.items():\n",
    "        for link in value:\n",
    "            vol_df.loc[len(vol_df.index)] = [key, link]\n",
    "            \n",
    "    print(\"make volumes df\")\n",
    "            \n",
    "    vol_df.to_csv(os.getcwd().replace('scripts', 'data') + '/journals/'+str(i)+'/volumes.csv', index = False)\n",
    "    "
   ]
  },
  {
   "cell_type": "code",
   "execution_count": 13,
   "id": "5ab845ff",
   "metadata": {},
   "outputs": [
    {
     "data": {
      "text/plain": [
       "{'2022 — Volume 5': [],\n",
       " '2021 — Volume 4': ['https://www.sciencedirect.com/journal/hydroresearch/vol/4/suppl/C'],\n",
       " '2020 — Volume 3': ['https://www.sciencedirect.com/journal/hydroresearch/vol/3/suppl/C'],\n",
       " '2019 — Volumes 1-2': ['https://www.sciencedirect.com/journal/hydroresearch/vol/2/suppl/C',\n",
       "  'https://www.sciencedirect.com/journal/hydroresearch/vol/1/suppl/C']}"
      ]
     },
     "execution_count": 13,
     "metadata": {},
     "output_type": "execute_result"
    }
   ],
   "source": [
    "vols"
   ]
  },
  {
   "cell_type": "code",
   "execution_count": null,
   "id": "4404f92f",
   "metadata": {},
   "outputs": [],
   "source": []
  },
  {
   "cell_type": "code",
   "execution_count": null,
   "id": "828c98f2",
   "metadata": {},
   "outputs": [],
   "source": []
  },
  {
   "cell_type": "code",
   "execution_count": null,
   "id": "2d2a9a54",
   "metadata": {},
   "outputs": [],
   "source": []
  },
  {
   "cell_type": "code",
   "execution_count": null,
   "id": "44603563",
   "metadata": {},
   "outputs": [],
   "source": []
  },
  {
   "cell_type": "code",
   "execution_count": null,
   "id": "84d981e1",
   "metadata": {},
   "outputs": [],
   "source": []
  }
 ],
 "metadata": {
  "kernelspec": {
   "display_name": "Python 3 (ipykernel)",
   "language": "python",
   "name": "python3"
  },
  "language_info": {
   "codemirror_mode": {
    "name": "ipython",
    "version": 3
   },
   "file_extension": ".py",
   "mimetype": "text/x-python",
   "name": "python",
   "nbconvert_exporter": "python",
   "pygments_lexer": "ipython3",
   "version": "3.9.17"
  }
 },
 "nbformat": 4,
 "nbformat_minor": 5
}
